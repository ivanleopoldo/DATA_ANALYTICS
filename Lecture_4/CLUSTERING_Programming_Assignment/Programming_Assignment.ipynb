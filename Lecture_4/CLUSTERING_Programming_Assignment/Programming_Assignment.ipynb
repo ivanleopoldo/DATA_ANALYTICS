{
  "nbformat": 4,
  "nbformat_minor": 0,
  "metadata": {
    "colab": {
      "provenance": []
    },
    "kernelspec": {
      "name": "python3",
      "display_name": "Python 3"
    },
    "language_info": {
      "name": "python"
    }
  },
  "cells": [
    {
      "cell_type": "code",
      "source": [
        "!pip install kmodes"
      ],
      "metadata": {
        "colab": {
          "base_uri": "https://localhost:8080/"
        },
        "id": "mEScemS3hjPy",
        "outputId": "d1a6d57c-3c61-452e-8df3-e8fd004eaf2a"
      },
      "execution_count": 1,
      "outputs": [
        {
          "output_type": "stream",
          "name": "stdout",
          "text": [
            "Collecting kmodes\n",
            "  Downloading kmodes-0.12.2-py2.py3-none-any.whl (20 kB)\n",
            "Requirement already satisfied: numpy>=1.10.4 in /usr/local/lib/python3.10/dist-packages (from kmodes) (1.25.2)\n",
            "Requirement already satisfied: scikit-learn>=0.22.0 in /usr/local/lib/python3.10/dist-packages (from kmodes) (1.2.2)\n",
            "Requirement already satisfied: scipy>=0.13.3 in /usr/local/lib/python3.10/dist-packages (from kmodes) (1.11.4)\n",
            "Requirement already satisfied: joblib>=0.11 in /usr/local/lib/python3.10/dist-packages (from kmodes) (1.4.2)\n",
            "Requirement already satisfied: threadpoolctl>=2.0.0 in /usr/local/lib/python3.10/dist-packages (from scikit-learn>=0.22.0->kmodes) (3.5.0)\n",
            "Installing collected packages: kmodes\n",
            "Successfully installed kmodes-0.12.2\n"
          ]
        }
      ]
    },
    {
      "cell_type": "code",
      "execution_count": 4,
      "metadata": {
        "id": "gEeHvD7ChY_9"
      },
      "outputs": [],
      "source": [
        "import numpy as np\n",
        "import pandas as pd\n",
        "from scipy.special import logsumexp\n",
        "from sklearn.preprocessing import LabelEncoder\n",
        "from sklearn.metrics import fowlkes_mallows_score, adjusted_rand_score, normalized_mutual_info_score\n",
        "from kmodes.kmodes import KModes\n"
      ]
    },
    {
      "cell_type": "code",
      "source": [
        "class BernoulliMixtureSEM:\n",
        "    def __init__(self, n_components, max_iter, tol=1e-3, n_samples_per_component=1):\n",
        "        self.n_components = n_components\n",
        "        self.max_iter = max_iter\n",
        "        self.tol = tol\n",
        "        self.n_samples_per_component = n_samples_per_component\n",
        "\n",
        "    def fit(self, x):\n",
        "        self.x = x\n",
        "        self.init_params()\n",
        "        log_bernoullis = self.get_log_bernoullis(self.x)\n",
        "        self.old_logL = self.get_log_likelihood(log_bernoullis)\n",
        "        for step in range(self.max_iter):\n",
        "            if step > 0:\n",
        "                self.old_logL = self.logL\n",
        "            # E-Step\n",
        "            self.gamma = self.get_responsibilities(log_bernoullis)\n",
        "            self.remember_params()\n",
        "            # M-Step\n",
        "            self.get_Neff()\n",
        "            self.get_mu()\n",
        "            self.get_pi()\n",
        "            # Compute new log_likelihood:\n",
        "            log_bernoullis = self.get_log_bernoullis(self.x)\n",
        "            self.logL = self.get_log_likelihood(log_bernoullis)\n",
        "            if np.isnan(self.logL):\n",
        "                self.reset_params()\n",
        "                break\n",
        "            # Check for convergence\n",
        "            if np.abs(self.logL - self.old_logL) < self.tol:\n",
        "                break\n",
        "\n",
        "    def reset_params(self):\n",
        "        self.mu = self.old_mu.copy()\n",
        "        self.pi = self.old_pi.copy()\n",
        "        self.gamma = self.old_gamma.copy()\n",
        "        self.get_Neff()\n",
        "        log_bernoullis = self.get_log_bernoullis(self.x)\n",
        "        self.logL = self.get_log_likelihood(log_bernoullis)\n",
        "\n",
        "    def remember_params(self):\n",
        "        self.old_mu = self.mu.copy()\n",
        "        self.old_pi = self.pi.copy()\n",
        "        self.old_gamma = self.gamma.copy()\n",
        "\n",
        "    def init_params(self):\n",
        "        self.n_samples = self.x.shape[0]\n",
        "        self.n_features = self.x.shape[1]\n",
        "        self.pi = 1 / self.n_components * np.ones(self.n_components)\n",
        "        self.mu = np.random.RandomState(seed=0).uniform(low=0.25, high=0.75, size=(self.n_components, self.n_features))\n",
        "        self.normalize_mu()\n",
        "\n",
        "    def normalize_mu(self):\n",
        "        sum_over_features = np.sum(self.mu, axis=1)\n",
        "        for k in range(self.n_components):\n",
        "            self.mu[k, :] /= sum_over_features[k]\n",
        "\n",
        "    def get_responsibilities(self, log_bernoullis):\n",
        "        gamma = np.zeros(shape=(self.n_samples, self.n_components))\n",
        "        Z = logsumexp(np.log(self.pi[None, :]) + log_bernoullis, axis=1)\n",
        "        for k in range(self.n_components):\n",
        "            gamma[:, k] = np.exp(np.log(self.pi[k]) + log_bernoullis[:, k] - Z)\n",
        "        # Sample latent variables\n",
        "        for i in range(self.n_samples):\n",
        "            gamma[i, :] = np.random.multinomial(1, gamma[i, :])\n",
        "        return gamma\n",
        "\n",
        "    def get_log_bernoullis(self, x):\n",
        "        log_bernoullis = self.get_save_single(x, self.mu)\n",
        "        log_bernoullis += self.get_save_single(1 - x, 1 - self.mu)\n",
        "        return log_bernoullis\n",
        "\n",
        "    def get_save_single(self, x, mu):\n",
        "        mu_place = np.where(mu <= 1e-15, 1e-15, mu)\n",
        "        return np.tensordot(x, np.log(mu_place), (1, 1))\n",
        "\n",
        "    def get_Neff(self):\n",
        "        self.Neff = np.sum(self.gamma, axis=0)\n",
        "\n",
        "    def get_mu(self):\n",
        "        self.mu = np.einsum('ik,id -> kd', self.gamma, self.x) / self.Neff[:, None]\n",
        "\n",
        "    def get_pi(self):\n",
        "        self.pi = self.Neff / self.n_samples\n",
        "\n",
        "    def predict(self, x):\n",
        "        log_bernoullis = self.get_log_bernoullis(x)\n",
        "        gamma = self.get_responsibilities(log_bernoullis)\n",
        "        return np.argmax(gamma, axis=1)\n",
        "\n",
        "    def get_sample_log_likelihood(self, log_bernoullis):\n",
        "        return logsumexp(np.log(self.pi[None, :]) + log_bernoullis, axis=1)\n",
        "\n",
        "    def get_log_likelihood(self, log_bernoullis):\n",
        "        return np.mean(self.get_sample_log_likelihood(log_bernoullis))\n",
        "\n",
        "    def score(self, x):\n",
        "        log_bernoullis = self.get_log_bernoullis(x)\n",
        "        return self.get_log_likelihood(log_bernoullis)\n",
        "\n",
        "    def score_samples(self, x):\n",
        "        log_bernoullis = self.get_log_bernoullis(x)\n",
        "        return self.get_sample_log_likelihood(log_bernoullis)"
      ],
      "metadata": {
        "id": "gF5yxb25hyNE"
      },
      "execution_count": 5,
      "outputs": []
    },
    {
      "cell_type": "code",
      "source": [
        "# Load the Zoo dataset\n",
        "url = \"https://archive.ics.uci.edu/ml/machine-learning-databases/zoo/zoo.data\"\n",
        "columns = [\"animal_name\", \"hair\", \"feathers\", \"eggs\", \"milk\", \"airborne\", \"aquatic\",\n",
        "           \"predator\", \"toothed\", \"backbone\", \"breathes\", \"venomous\", \"fins\", \"legs\",\n",
        "           \"tail\", \"domestic\", \"catsize\", \"type\"]\n",
        "\n",
        "zoo = pd.read_csv(url, names=columns)\n",
        "X = zoo.drop([\"animal_name\", \"type\"], axis=1)\n",
        "y = zoo[\"type\"]"
      ],
      "metadata": {
        "id": "6cX23OmjsINz"
      },
      "execution_count": 9,
      "outputs": []
    },
    {
      "cell_type": "code",
      "source": [
        "# Encode categorical features as integers\n",
        "label_encoders = {col: LabelEncoder().fit(X[col]) for col in X.columns}\n",
        "for col, le in label_encoders.items():\n",
        "    X[col] = le.transform(X[col])\n",
        "\n",
        "# Ensure the dataset is binary for the Bernoulli Mixture Model\n",
        "X_binary = (X > 0).astype(int)"
      ],
      "metadata": {
        "id": "Tx6w9NjjsL0y"
      },
      "execution_count": 10,
      "outputs": []
    },
    {
      "cell_type": "code",
      "source": [
        "# Initialize and fit the Bernoulli Mixture model with SEM\n",
        "sem_model = BernoulliMixtureSEM(n_components=7, max_iter=100)\n",
        "sem_model.fit(X_binary.values)\n",
        "sem_predictions = sem_model.predict(X_binary.values)\n",
        "\n",
        "# Initialize and fit the K-Modes model\n",
        "km = KModes(n_clusters=7, init='Huang', n_init=5, verbose=1)\n",
        "km.fit(X)\n",
        "km_predictions = km.predict(X)"
      ],
      "metadata": {
        "colab": {
          "base_uri": "https://localhost:8080/"
        },
        "id": "lsC6Tjljr58R",
        "outputId": "c17ee052-3660-425a-89cf-83568b9b1812"
      },
      "execution_count": 11,
      "outputs": [
        {
          "output_type": "stream",
          "name": "stdout",
          "text": [
            "Init: initializing centroids\n",
            "Init: initializing clusters\n",
            "Starting iterations...\n",
            "Run 1, iteration: 1/100, moves: 12, cost: 150.0\n",
            "Init: initializing centroids\n",
            "Init: initializing clusters\n",
            "Starting iterations...\n",
            "Run 2, iteration: 1/100, moves: 22, cost: 161.0\n",
            "Run 2, iteration: 2/100, moves: 0, cost: 161.0\n",
            "Init: initializing centroids\n",
            "Init: initializing clusters\n",
            "Starting iterations...\n",
            "Run 3, iteration: 1/100, moves: 9, cost: 152.0\n",
            "Run 3, iteration: 2/100, moves: 0, cost: 152.0\n",
            "Init: initializing centroids\n",
            "Init: initializing clusters\n",
            "Starting iterations...\n",
            "Run 4, iteration: 1/100, moves: 7, cost: 156.0\n",
            "Init: initializing centroids\n",
            "Init: initializing clusters\n",
            "Starting iterations...\n",
            "Run 5, iteration: 1/100, moves: 20, cost: 150.0\n",
            "Run 5, iteration: 2/100, moves: 5, cost: 150.0\n",
            "Best run was number 1\n"
          ]
        }
      ]
    },
    {
      "cell_type": "code",
      "source": [
        "# Evaluate clustering performance\n",
        "fmi_sem = fowlkes_mallows_score(y, sem_predictions)\n",
        "ari_sem = adjusted_rand_score(y, sem_predictions)\n",
        "nmi_sem = normalized_mutual_info_score(y, sem_predictions)\n",
        "\n",
        "fmi_km = fowlkes_mallows_score(y, km_predictions)\n",
        "ari_km = adjusted_rand_score(y, km_predictions)\n",
        "nmi_km = normalized_mutual_info_score(y, km_predictions)"
      ],
      "metadata": {
        "id": "3gbIaXbXsTi3"
      },
      "execution_count": 12,
      "outputs": []
    },
    {
      "cell_type": "code",
      "source": [
        "# Print the results\n",
        "print(\"Bernoulli Mixture Model with SEM:\")\n",
        "print(f\"FMI: {fmi_sem}, ARI: {ari_sem}, NMI: {nmi_sem}\")\n",
        "\n",
        "print(\"\\nK-Modes:\")\n",
        "print(f\"FMI: {fmi_km}, ARI: {ari_km}, NMI: {nmi_km}\")"
      ],
      "metadata": {
        "colab": {
          "base_uri": "https://localhost:8080/"
        },
        "id": "BNqlXtoPsR9h",
        "outputId": "1a30f77f-f380-44e9-b828-9358ef4cf923"
      },
      "execution_count": 13,
      "outputs": [
        {
          "output_type": "stream",
          "name": "stdout",
          "text": [
            "Bernoulli Mixture Model with SEM:\n",
            "FMI: 0.6655506092840433, ARI: 0.5734476270123353, NMI: 0.6896782659344508\n",
            "\n",
            "K-Modes:\n",
            "FMI: 0.6298860033747976, ARI: 0.529475551586335, NMI: 0.7272630630385678\n"
          ]
        }
      ]
    }
  ]
}