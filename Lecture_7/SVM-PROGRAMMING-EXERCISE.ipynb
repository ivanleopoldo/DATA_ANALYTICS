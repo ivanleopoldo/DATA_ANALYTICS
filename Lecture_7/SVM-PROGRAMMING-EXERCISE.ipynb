{
  "cells": [
    {
      "cell_type": "markdown",
      "metadata": {
        "id": "So41shz0EBB2"
      },
      "source": [
        "# Support Vector Machines\n",
        "## Instructions\n",
        "1. Use any dataset from https://archive.ics.uci.edu/datasets?Task=Clustering&skip=0&take=10&sort=desc&orderBy=NumHits&search=&Area=Biology\n",
        "2. Each student should have a unique dataset otherwise no points will be given, so you need to discuss with your classmate."
      ]
    },
    {
      "cell_type": "markdown",
      "metadata": {
        "id": "NnjYH8EdEBB4"
      },
      "source": [
        "**TASK: Take 10 moderately sized subsamples your dataset and create a correlation plot for each subsample**"
      ]
    },
    {
      "cell_type": "markdown",
      "metadata": {
        "id": "YiSYpiv2EBB4"
      },
      "source": [
        "**TASK (Classification): If your problem is a classification problem visually check if the target variable is imbalanced**\n",
        "**TASK (Regression): If your problem is a regression problem visually the distribution of your target variabe**"
      ]
    },
    {
      "cell_type": "markdown",
      "metadata": {
        "id": "p-S2V6xJEBB4"
      },
      "source": [
        "**TASK: Take 10 moderately sized subsamples and create a pairplot of the feature variable in relation to the target variable**"
      ]
    },
    {
      "cell_type": "markdown",
      "metadata": {
        "id": "-he4JmbOEBB4"
      },
      "source": [
        "**TASK: Create a clustermap with seaborn to explore the relationships between variables.**"
      ]
    },
    {
      "cell_type": "markdown",
      "metadata": {
        "id": "yq3RdsPIEBB4"
      },
      "source": [
        "**TASK: Perform SVM modelling and check the performance of your model, improve the performance of your model using grdisearch**"
      ]
    },
    {
      "cell_type": "code",
      "source": [
        "!pip install ucimlrepo"
      ],
      "metadata": {
        "id": "41ECFJDB_wwM",
        "outputId": "f1468b16-ce6a-4dce-ea33-6d5c7a27666d",
        "colab": {
          "base_uri": "https://localhost:8080/"
        }
      },
      "execution_count": 5,
      "outputs": [
        {
          "output_type": "stream",
          "name": "stdout",
          "text": [
            "Collecting ucimlrepo\n",
            "  Downloading ucimlrepo-0.0.6-py3-none-any.whl (8.0 kB)\n",
            "Installing collected packages: ucimlrepo\n",
            "Successfully installed ucimlrepo-0.0.6\n"
          ]
        }
      ]
    },
    {
      "cell_type": "code",
      "source": [
        "import pandas as pd\n",
        "import numpy as np\n",
        "import matplotlib.pyplot as plt\n",
        "import seaborn as sns\n",
        "from sklearn.svm import SVC\n",
        "from sklearn.model_selection import GridSearchCV\n",
        "from ucimlrepo import fetch_ucirepo"
      ],
      "metadata": {
        "id": "uJESa2QpEwfM"
      },
      "execution_count": 7,
      "outputs": []
    },
    {
      "cell_type": "code",
      "source": [
        "url = 'https://archive.ics.uci.edu/static/public/401/gene+expression+cancer+rna+seq.zip'\n",
        "\n",
        "df = pd.read_csv(url)\n",
        "\n",
        "df.head()"
      ],
      "metadata": {
        "id": "FkRFLLOvFPEx"
      },
      "execution_count": null,
      "outputs": []
    },
    {
      "cell_type": "code",
      "source": [
        "subsamples = []\n",
        "for i in range(10):\n",
        "    subsample = df.sample(n=100)\n",
        "    subsamples.append(subsample)\n",
        "\n",
        "for i, subsample in enumerate(subsamples):\n",
        "    plt.figure(figsize=(10, 8))\n",
        "    sns.heatmap(subsample.corr(), annot=True)\n",
        "    plt.title(f'Correlation Plot for Subsample {i+1}')\n",
        "    plt.show()"
      ],
      "metadata": {
        "id": "cS09JWMAJ1Nh"
      },
      "execution_count": null,
      "outputs": []
    },
    {
      "cell_type": "code",
      "source": [
        "if 'label' in df.columns:\n",
        "    # Classification problem\n",
        "    print('Target variable distribution:')\n",
        "    print(df['label'].value_counts())\n",
        "\n",
        "    # Plot target variable distribution\n",
        "    plt.figure(figsize=(8, 6))\n",
        "    df['label'].value_counts().plot(kind='bar')\n",
        "    plt.title('Target Variable Distribution')\n",
        "    plt.xlabel('Class')\n",
        "    plt.ylabel('Count')\n",
        "    plt.show()\n",
        "else:\n",
        "    # Regression problem\n",
        "    print('Target variable distribution:')\n",
        "    print(df['target'].describe())\n",
        "\n",
        "    # Plot target variable distribution\n",
        "    plt.figure(figsize=(8, 6))\n",
        "    df['target'].hist(bins=30)\n",
        "    plt.title('Target Variable Distribution')\n",
        "    plt.xlabel('Value')\n",
        "    plt.ylabel('Count')\n",
        "    plt.show()"
      ],
      "metadata": {
        "id": "Btqe7aofJ88M"
      },
      "execution_count": null,
      "outputs": []
    },
    {
      "cell_type": "code",
      "source": [
        "for i, subsample in enumerate(subsamples):\n",
        "    plt.figure(figsize=(12, 10))\n",
        "    sns.pairplot(subsample, hue='label', diag_kind='kde')\n",
        "    plt.suptitle(f'Pairplot for Subsample {i+1}')\n",
        "    plt.show()"
      ],
      "metadata": {
        "id": "w0gr873lJ-4t"
      },
      "execution_count": null,
      "outputs": []
    },
    {
      "cell_type": "code",
      "source": [
        "plt.figure(figsize=(12, 10))\n",
        "sns.clustermap(df.corr())\n",
        "plt.title('Clustermap of Variable Correlations')\n",
        "plt.show()"
      ],
      "metadata": {
        "id": "_VqN2gDzJ_hl"
      },
      "execution_count": null,
      "outputs": []
    },
    {
      "cell_type": "code",
      "source": [
        "X = df.drop('', axis=1)\n",
        "y = df['']\n",
        "\n",
        "from sklearn.model_selection import train_test_split\n",
        "X_train, X_test, y_train, y_test = train_test_split(X, y, test_size=0.2, random_state=42)"
      ],
      "metadata": {
        "id": "x4Y3OIAtKAfU"
      },
      "execution_count": null,
      "outputs": []
    },
    {
      "cell_type": "code",
      "source": [
        "svm = SVC()\n",
        "svm.fit(X_train, y_train)\n",
        "\n",
        "train_score = svm.score(X_train, y_train)\n",
        "test_score = svm.score(X_test, y_test)\n",
        "print(f'Train Accuracy: {train_score:.2f}')\n",
        "print(f'Test Accuracy: {test_score:.2f}')\n",
        "\n",
        "param_grid = {'C': [0.1, 1, 10], 'gamma': [0.1, 1, 10]}\n",
        "grid_search = GridSearchCV(svm, param_grid, cv=5)\n",
        "grid_search.fit(X_train, y_train)\n",
        "\n",
        "train_score = grid_search.score(X_train, y_train)\n",
        "test_score = grid_search.score(X_test, y_test)\n",
        "print(f'Optimized Train Accuracy: {train_score:.2f}')\n",
        "print(f'Optimized Test Accuracy: {test_score:.2f}')"
      ],
      "metadata": {
        "id": "bhvKvpspKTM8"
      },
      "execution_count": null,
      "outputs": []
    }
  ],
  "metadata": {
    "anaconda-cloud": {},
    "kernelspec": {
      "display_name": "Python 3 (ipykernel)",
      "language": "python",
      "name": "python3"
    },
    "language_info": {
      "codemirror_mode": {
        "name": "ipython",
        "version": 3
      },
      "file_extension": ".py",
      "mimetype": "text/x-python",
      "name": "python",
      "nbconvert_exporter": "python",
      "pygments_lexer": "ipython3",
      "version": "3.8.16"
    },
    "colab": {
      "provenance": []
    }
  },
  "nbformat": 4,
  "nbformat_minor": 0
}